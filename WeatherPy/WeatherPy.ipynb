{
 "cells": [
  {
   "cell_type": "markdown",
   "metadata": {},
   "source": [
    "# WeatherPy\n",
    "----\n",
    "\n",
    "#### Note\n",
    "* Instructions have been included for each segment. You do not have to follow them exactly, but they are included to help you think through the steps."
   ]
  },
  {
   "cell_type": "code",
   "execution_count": 30,
   "metadata": {
    "scrolled": true
   },
   "outputs": [
    {
     "name": "stdout",
     "output_type": "stream",
     "text": [
      "7e95c280e82e44c119e6f129ea764f93\n"
     ]
    }
   ],
   "source": [
    "# Dependencies and Setup\n",
    "import matplotlib.pyplot as plt\n",
    "import pandas as pd\n",
    "import numpy as np\n",
    "import requests\n",
    "import time\n",
    "from scipy.stats import linregress\n",
    "import datetime\n",
    "\n",
    "# Import API key\n",
    "from api_keys import weather_api_key\n",
    "\n",
    "# Incorporated citipy to determine city based on latitude and longitude\n",
    "from citipy import citipy\n",
    "\n",
    "# Output File (CSV)\n",
    "output_data_file = \"output_data/cities.csv\"\n",
    "\n",
    "print(weather_api_key)\n",
    "\n",
    "# Range of latitudes and longitudes\n",
    "lat_range = (-90, 90)\n",
    "lng_range = (-180, 180)"
   ]
  },
  {
   "cell_type": "markdown",
   "metadata": {},
   "source": [
    "## Generate Cities List"
   ]
  },
  {
   "cell_type": "code",
   "execution_count": 2,
   "metadata": {},
   "outputs": [
    {
     "data": {
      "text/plain": [
       "580"
      ]
     },
     "execution_count": 2,
     "metadata": {},
     "output_type": "execute_result"
    }
   ],
   "source": [
    "# List for holding lat_lngs and cities\n",
    "lat_lngs = []\n",
    "cities = []\n",
    "\n",
    "# Create a set of random lat and lng combinations\n",
    "lats = np.random.uniform(lat_range[0], lat_range[1], size=1500)\n",
    "lngs = np.random.uniform(lng_range[0], lng_range[1], size=1500)\n",
    "lat_lngs = zip(lats, lngs)\n",
    "\n",
    "# Identify nearest city for each lat, lng combination\n",
    "for lat_lng in lat_lngs:\n",
    "    city = citipy.nearest_city(lat_lng[0], lat_lng[1]).city_name\n",
    "    \n",
    "    # If the city is unique, then add it to a our cities list\n",
    "    if city not in cities:\n",
    "        cities.append(city)\n",
    "\n",
    "# Print the city count to confirm sufficient count\n",
    "len(cities)"
   ]
  },
  {
   "cell_type": "code",
   "execution_count": null,
   "metadata": {},
   "outputs": [],
   "source": []
  },
  {
   "cell_type": "markdown",
   "metadata": {},
   "source": [
    "### Perform API Calls\n",
    "* Perform a weather check on each city using a series of successive API calls.\n",
    "* Include a print log of each city as it'sbeing processed (with the city number and city name).\n"
   ]
  },
  {
   "cell_type": "code",
   "execution_count": 3,
   "metadata": {},
   "outputs": [
    {
     "data": {
      "text/plain": [
       "'7e95c280e82e44c119e6f129ea764f93'"
      ]
     },
     "execution_count": 3,
     "metadata": {},
     "output_type": "execute_result"
    }
   ],
   "source": [
    "weather_api_key"
   ]
  },
  {
   "cell_type": "code",
   "execution_count": 4,
   "metadata": {},
   "outputs": [
    {
     "name": "stdout",
     "output_type": "stream",
     "text": [
      "http://api.openweathermap.org/data/2.5/weather?appid=7e95c280e82e44c119e6f129ea764f93&units=imperial&q=\n"
     ]
    }
   ],
   "source": [
    "url = \"http://api.openweathermap.org/data/2.5/weather?\"\n",
    "units = \"imperial\"\n",
    "query_url = f\"{url}appid={weather_api_key}&units={units}&q=\"\n",
    "print(query_url)"
   ]
  },
  {
   "cell_type": "code",
   "execution_count": 5,
   "metadata": {
    "scrolled": true
   },
   "outputs": [
    {
     "name": "stdout",
     "output_type": "stream",
     "text": [
      "City Name: mataura, City ID: 6201424\n",
      "City Name: gat, City ID: 293842\n",
      "City Name: san patricio, City ID: 4726521\n",
      "City Name: pedernales, City ID: 3495137\n",
      "That record does not exist, searching for next record...\n",
      "City Name: arraial do cabo, City ID: 3471451\n",
      "City Name: lorengau, City ID: 2092164\n",
      "City Name: cape town, City ID: 3369157\n",
      "City Name: port alfred, City ID: 964432\n",
      "City Name: kachug, City ID: 2023333\n",
      "City Name: garowe, City ID: 58933\n",
      "That record does not exist, searching for next record...\n",
      "City Name: aklavik, City ID: 5882953\n",
      "City Name: pedasi, City ID: 3703239\n",
      "City Name: meulaboh, City ID: 1214488\n",
      "City Name: ilulissat, City ID: 3423146\n",
      "City Name: victoria, City ID: 1819729\n",
      "City Name: byron bay, City ID: 2172880\n",
      "City Name: clyde river, City ID: 5924351\n",
      "City Name: sri aman, City ID: 1735799\n",
      "That record does not exist, searching for next record...\n",
      "City Name: bluff, City ID: 2206939\n",
      "City Name: busselton, City ID: 2075265\n",
      "City Name: punta arenas, City ID: 3874787\n",
      "City Name: new norfolk, City ID: 2155415\n",
      "City Name: san martino buon albergo, City ID: 3168030\n",
      "City Name: sitka, City ID: 5557293\n",
      "That record does not exist, searching for next record...\n",
      "City Name: mahebourg, City ID: 934322\n",
      "City Name: caravelas, City ID: 3466980\n",
      "City Name: abu samrah, City ID: 172515\n",
      "City Name: dikson, City ID: 1507390\n",
      "City Name: kapaa, City ID: 5848280\n",
      "City Name: cherskiy, City ID: 2126199\n",
      "City Name: iqaluit, City ID: 5983720\n",
      "City Name: rikitea, City ID: 4030556\n",
      "City Name: atuona, City ID: 4020109\n",
      "City Name: lebu, City ID: 3883457\n",
      "City Name: faanui, City ID: 4034551\n",
      "City Name: pishin, City ID: 1167821\n",
      "City Name: tuktoyaktuk, City ID: 6170031\n",
      "City Name: kieta, City ID: 2094027\n",
      "City Name: moctezuma, City ID: 3995647\n",
      "City Name: ban nahin, City ID: 1661950\n",
      "City Name: abaete, City ID: 3473267\n",
      "City Name: hobart, City ID: 2163355\n",
      "City Name: sao joao da barra, City ID: 3448903\n",
      "City Name: talnakh, City ID: 1490256\n",
      "City Name: tasiilaq, City ID: 3424607\n",
      "City Name: zhigansk, City ID: 2012530\n",
      "City Name: airai, City ID: 1651810\n",
      "That record does not exist, searching for next record...\n",
      "City Name: carnarvon, City ID: 2074865\n",
      "That record does not exist, searching for next record...\n",
      "City Name: bredasdorp, City ID: 1015776\n",
      "City Name: longyearbyen, City ID: 2729907\n",
      "City Name: graaff-reinet, City ID: 1000543\n",
      "City Name: ushuaia, City ID: 3833367\n",
      "City Name: srednekolymsk, City ID: 2121025\n",
      "City Name: yulara, City ID: 6355222\n",
      "City Name: castro, City ID: 3466704\n",
      "City Name: ponta do sol, City ID: 2264557\n",
      "City Name: hirara, City ID: 1862505\n",
      "City Name: contamana, City ID: 3697838\n",
      "City Name: vaini, City ID: 4032243\n",
      "City Name: flinders, City ID: 6255012\n",
      "City Name: bilma, City ID: 2446796\n",
      "City Name: mutis, City ID: 3689325\n",
      "City Name: madera, City ID: 5369578\n",
      "City Name: lavrentiya, City ID: 4031637\n",
      "City Name: westport, City ID: 4845585\n",
      "City Name: terrace bay, City ID: 6162951\n",
      "City Name: san policarpo, City ID: 1688696\n",
      "City Name: kodiak, City ID: 5866583\n",
      "City Name: cortes, City ID: 6359626\n",
      "City Name: hamilton, City ID: 4513583\n",
      "City Name: cayenne, City ID: 3382160\n",
      "City Name: corinto, City ID: 259289\n",
      "That record does not exist, searching for next record...\n",
      "City Name: college, City ID: 5859699\n",
      "City Name: albany, City ID: 5106841\n",
      "City Name: mareeba, City ID: 2158767\n",
      "City Name: hermanus, City ID: 3366880\n",
      "City Name: port elizabeth, City ID: 964420\n",
      "City Name: waddan, City ID: 2209055\n",
      "City Name: virginia beach, City ID: 4791259\n",
      "City Name: mahibadhoo, City ID: 1337605\n",
      "City Name: mirabad, City ID: 1133310\n",
      "City Name: salina, City ID: 4278890\n",
      "That record does not exist, searching for next record...\n",
      "City Name: tahoua, City ID: 2439376\n",
      "City Name: buala, City ID: 2109528\n",
      "City Name: hithadhoo, City ID: 1282256\n",
      "City Name: khetri, City ID: 1266744\n",
      "City Name: yichun, City ID: 2033413\n",
      "City Name: segou, City ID: 2451478\n",
      "City Name: saldanha, City ID: 3361934\n",
      "City Name: ribeira grande, City ID: 3372707\n",
      "City Name: port lincoln, City ID: 2063036\n",
      "City Name: salalah, City ID: 286621\n",
      "That record does not exist, searching for next record...\n",
      "City Name: khatanga, City ID: 2022572\n",
      "City Name: butaritari, City ID: 2110227\n",
      "City Name: nemuro, City ID: 2128975\n",
      "City Name: cururupu, City ID: 3401148\n",
      "City Name: kaitangata, City ID: 2208248\n",
      "City Name: provideniya, City ID: 4031574\n",
      "City Name: conde, City ID: 3385077\n",
      "City Name: yarmouth, City ID: 4956335\n",
      "That record does not exist, searching for next record...\n",
      "That record does not exist, searching for next record...\n",
      "City Name: pangnirtung, City ID: 6096551\n",
      "City Name: mar del plata, City ID: 3430863\n",
      "City Name: calvia, City ID: 2520493\n",
      "City Name: chuy, City ID: 3443061\n",
      "City Name: port macquarie, City ID: 2152659\n",
      "City Name: bawku, City ID: 2303287\n",
      "That record does not exist, searching for next record...\n",
      "City Name: barrow, City ID: 5880054\n",
      "City Name: bethel, City ID: 5282297\n",
      "City Name: faya, City ID: 110690\n",
      "City Name: launceston, City ID: 2160517\n",
      "City Name: leningradskiy, City ID: 2123814\n",
      "City Name: chokurdakh, City ID: 2126123\n",
      "City Name: puerto ayora, City ID: 3652764\n",
      "City Name: turayf, City ID: 101312\n",
      "City Name: deputatskiy, City ID: 2028164\n",
      "City Name: norsup, City ID: 2135517\n",
      "City Name: tuatapere, City ID: 2180815\n",
      "City Name: thompson, City ID: 6165406\n",
      "City Name: qaanaaq, City ID: 3831208\n",
      "City Name: tsabong, City ID: 932987\n",
      "City Name: balsas, City ID: 3406545\n",
      "City Name: tiksi, City ID: 2015306\n",
      "City Name: beringovskiy, City ID: 2126710\n",
      "That record does not exist, searching for next record...\n",
      "City Name: sant feliu de guixols, City ID: 3110643\n",
      "That record does not exist, searching for next record...\n",
      "City Name: karratha, City ID: 6620339\n",
      "City Name: esperance, City ID: 2071860\n",
      "City Name: porto velho, City ID: 3662762\n",
      "City Name: vilyuysk, City ID: 2013392\n",
      "City Name: isangel, City ID: 2136825\n",
      "City Name: grindavik, City ID: 3416888\n",
      "City Name: nantucket, City ID: 4944903\n",
      "City Name: tynda, City ID: 2014718\n",
      "City Name: wenling, City ID: 1791464\n",
      "City Name: moron, City ID: 3430545\n",
      "City Name: taoudenni, City ID: 2450173\n",
      "City Name: jamestown, City ID: 5122534\n",
      "City Name: geraldton, City ID: 2070998\n",
      "City Name: vila velha, City ID: 3445026\n",
      "City Name: shimanovsk, City ID: 2016701\n",
      "City Name: salym, City ID: 1493162\n",
      "City Name: zyryanka, City ID: 2119283\n",
      "City Name: bathsheba, City ID: 3374083\n",
      "City Name: hilo, City ID: 5855927\n",
      "City Name: utete, City ID: 149070\n",
      "City Name: nanortalik, City ID: 3421765\n",
      "City Name: ilhabela, City ID: 3461425\n",
      "That record does not exist, searching for next record...\n",
      "City Name: gbarnga, City ID: 2277060\n",
      "City Name: liverpool, City ID: 2644210\n",
      "City Name: lhokseumawe, City ID: 1214658\n",
      "City Name: lompoc, City ID: 5367788\n",
      "City Name: ampanihy, City ID: 1078553\n",
      "City Name: cabo san lucas, City ID: 3985710\n",
      "City Name: vostok, City ID: 2013279\n",
      "City Name: watsa, City ID: 204283\n",
      "City Name: kenai, City ID: 5866063\n",
      "City Name: kvarkeno, City ID: 537541\n",
      "City Name: cheney, City ID: 5789856\n",
      "City Name: lagoa, City ID: 3372964\n",
      "City Name: vanimo, City ID: 2084442\n",
      "City Name: cascais, City ID: 2269594\n",
      "City Name: tomari, City ID: 2120530\n",
      "City Name: hofn, City ID: 2630299\n",
      "City Name: angoche, City ID: 1052944\n",
      "City Name: vardo, City ID: 777019\n",
      "City Name: shibetsu, City ID: 2128206\n",
      "City Name: pochutla, City ID: 3517970\n",
      "City Name: camacha, City ID: 2270385\n",
      "That record does not exist, searching for next record...\n",
      "City Name: ahipara, City ID: 2194098\n",
      "City Name: baraboo, City ID: 5244638\n",
      "City Name: tucuman, City ID: 3836873\n",
      "City Name: kahului, City ID: 5847411\n",
      "City Name: sechelt, City ID: 6143367\n",
      "City Name: santo tomas, City ID: 1687534\n",
      "City Name: kalmunai, City ID: 1242110\n",
      "City Name: pisco, City ID: 3932145\n",
      "That record does not exist, searching for next record...\n",
      "City Name: walvis bay, City ID: 3359638\n",
      "City Name: pyay, City ID: 1299154\n",
      "City Name: saint-philippe, City ID: 935215\n",
      "That record does not exist, searching for next record...\n",
      "City Name: asfi, City ID: 2537881\n",
      "City Name: mikhaylovka, City ID: 527012\n",
      "City Name: marsh harbour, City ID: 3571913\n",
      "City Name: east london, City ID: 1006984\n",
      "City Name: quepos, City ID: 3622193\n",
      "City Name: altamont, City ID: 5711149\n",
      "City Name: waterfoot, City ID: 2655237\n",
      "City Name: kaeo, City ID: 2189343\n",
      "City Name: vila franca do campo, City ID: 3372472\n",
      "City Name: thinadhoo, City ID: 1337610\n"
     ]
    },
    {
     "name": "stdout",
     "output_type": "stream",
     "text": [
      "City Name: highland springs, City ID: 4764127\n",
      "City Name: horizontina, City ID: 3461659\n",
      "City Name: fengzhen, City ID: 2037391\n",
      "City Name: wewak, City ID: 2083537\n",
      "City Name: tobermory, City ID: 6167125\n",
      "City Name: prince albert, City ID: 6113335\n",
      "City Name: totoral, City ID: 3927023\n",
      "City Name: ulladulla, City ID: 2145554\n",
      "City Name: yellowknife, City ID: 6185377\n",
      "City Name: mao, City ID: 2514301\n",
      "City Name: nikolskoye, City ID: 546105\n",
      "City Name: acatlan, City ID: 3533445\n",
      "City Name: kutum, City ID: 371745\n",
      "City Name: santa rosa, City ID: 1687894\n",
      "City Name: jutai, City ID: 3663693\n",
      "City Name: sinnamary, City ID: 3380290\n",
      "City Name: yenagoa, City ID: 2318123\n",
      "City Name: waitati, City ID: 2179825\n",
      "City Name: goderich, City ID: 5962442\n",
      "City Name: moerai, City ID: 4034188\n",
      "City Name: puerto escondido, City ID: 3520994\n",
      "That record does not exist, searching for next record...\n",
      "City Name: seoul, City ID: 1835848\n",
      "City Name: katsuura, City ID: 2112309\n",
      "City Name: katangli, City ID: 2122783\n",
      "City Name: padang, City ID: 1633419\n",
      "City Name: waingapu, City ID: 1622318\n",
      "City Name: port-gentil, City ID: 2396518\n",
      "City Name: pasni, City ID: 1168312\n",
      "City Name: debre zeyit, City ID: 339666\n",
      "City Name: port augusta, City ID: 2063056\n",
      "That record does not exist, searching for next record...\n",
      "City Name: kavieng, City ID: 2094342\n",
      "City Name: faro, City ID: 2268339\n",
      "City Name: shache, City ID: 1280037\n",
      "City Name: ahome, City ID: 4019098\n",
      "City Name: ancud, City ID: 3899695\n",
      "City Name: altay, City ID: 1529651\n",
      "City Name: avarua, City ID: 4035715\n",
      "City Name: komsomolets, City ID: 1522348\n",
      "City Name: torit, City ID: 365742\n",
      "City Name: qasigiannguit, City ID: 3420768\n",
      "City Name: pokhara, City ID: 1282898\n",
      "City Name: leh, City ID: 1264976\n",
      "City Name: praia da vitoria, City ID: 3372760\n",
      "City Name: kaoma, City ID: 913323\n",
      "City Name: olavarria, City ID: 3842670\n",
      "City Name: koani, City ID: 156589\n",
      "That record does not exist, searching for next record...\n",
      "City Name: kodinsk, City ID: 1503037\n",
      "City Name: rio gallegos, City ID: 3838859\n",
      "City Name: seddon, City ID: 7281807\n",
      "City Name: tungor, City ID: 2120400\n",
      "City Name: jaru, City ID: 3925040\n",
      "City Name: saint-pierre, City ID: 935214\n",
      "City Name: yumen, City ID: 1528998\n",
      "That record does not exist, searching for next record...\n",
      "That record does not exist, searching for next record...\n",
      "City Name: sussex, City ID: 5105168\n",
      "City Name: anadyr, City ID: 2127202\n",
      "City Name: todos santos, City ID: 3981432\n",
      "That record does not exist, searching for next record...\n",
      "City Name: matara, City ID: 1235846\n",
      "City Name: miquelon, City ID: 3424941\n",
      "City Name: vestmannaeyjar, City ID: 3412093\n",
      "City Name: itarema, City ID: 3393692\n",
      "City Name: jimo, City ID: 1805757\n",
      "City Name: codrington, City ID: 2171099\n",
      "City Name: tahta, City ID: 347634\n",
      "That record does not exist, searching for next record...\n",
      "City Name: impfondo, City ID: 2259655\n",
      "City Name: fairbanks, City ID: 5861897\n",
      "City Name: hami, City ID: 1529484\n",
      "City Name: chapais, City ID: 5919850\n",
      "City Name: biak, City ID: 1637001\n",
      "City Name: luderitz, City ID: 3355672\n",
      "City Name: platanos, City ID: 255030\n",
      "City Name: kailua, City ID: 5847486\n",
      "City Name: santa isabel, City ID: 3450188\n",
      "City Name: tutoia, City ID: 3385899\n",
      "City Name: arman, City ID: 2127060\n",
      "City Name: georgetown, City ID: 1735106\n",
      "City Name: uray, City ID: 1488429\n",
      "City Name: picota, City ID: 3693646\n",
      "City Name: verkhniy baskunchak, City ID: 475196\n",
      "City Name: samarai, City ID: 2132606\n",
      "City Name: pangkalanbuun, City ID: 1632694\n",
      "City Name: igrim, City ID: 1505965\n",
      "City Name: eskilstuna, City ID: 2715953\n",
      "City Name: lake saint louis, City ID: 4394302\n",
      "City Name: acarau, City ID: 3408368\n",
      "City Name: bubaque, City ID: 2374583\n",
      "City Name: pacific grove, City ID: 5380437\n",
      "That record does not exist, searching for next record...\n",
      "City Name: chicama, City ID: 3698359\n",
      "City Name: bundaberg, City ID: 2173323\n",
      "City Name: nioro, City ID: 2412408\n",
      "City Name: katherine, City ID: 2068655\n",
      "City Name: kabwe, City ID: 916095\n",
      "City Name: atambua, City ID: 1651103\n",
      "City Name: batagay-alyta, City ID: 2027042\n",
      "City Name: ixtapa, City ID: 4004293\n",
      "City Name: arlit, City ID: 2447513\n",
      "City Name: cidreira, City ID: 3466165\n",
      "City Name: caala, City ID: 3351500\n",
      "City Name: scharnstein, City ID: 7872020\n",
      "City Name: san antonio, City ID: 4726206\n",
      "City Name: saint george, City ID: 5546220\n",
      "City Name: george, City ID: 1002145\n",
      "City Name: belaya gora, City ID: 2126785\n",
      "City Name: chernyshevskiy, City ID: 2025456\n",
      "City Name: rocha, City ID: 3440777\n",
      "City Name: havelock, City ID: 4470244\n",
      "City Name: reni, City ID: 695670\n",
      "City Name: poum, City ID: 2138555\n",
      "City Name: nishihara, City ID: 1855342\n",
      "City Name: baruun-urt, City ID: 2032614\n",
      "City Name: huilong, City ID: 1806840\n",
      "City Name: fortuna, City ID: 5563839\n",
      "City Name: outlook, City ID: 6095416\n",
      "City Name: acapulco, City ID: 3533462\n",
      "City Name: rovaniemi, City ID: 638936\n",
      "City Name: kosh-agach, City ID: 1502422\n",
      "City Name: soldotna, City ID: 5874678\n",
      "City Name: tonj, City ID: 365763\n",
      "City Name: mayor pablo lagerenza, City ID: 3867427\n",
      "City Name: bogorodskoye, City ID: 575521\n",
      "City Name: anloga, City ID: 2304548\n",
      "City Name: plettenberg bay, City ID: 964712\n",
      "City Name: broken hill, City ID: 2173911\n",
      "City Name: mount pleasant, City ID: 4588165\n",
      "City Name: paamiut, City ID: 3421193\n",
      "City Name: torbay, City ID: 6167817\n",
      "City Name: kununurra, City ID: 2068110\n",
      "City Name: swadlincote, City ID: 2636465\n",
      "City Name: qinzhou, City ID: 1797551\n",
      "City Name: japura, City ID: 1642773\n",
      "City Name: atbasar, City ID: 1526038\n",
      "City Name: ugoofaaru, City ID: 1337619\n",
      "City Name: shizunai, City ID: 2128025\n",
      "City Name: kushmurun, City ID: 1519924\n",
      "City Name: olinda, City ID: 3393536\n",
      "City Name: hilton head island, City ID: 4581833\n",
      "City Name: belyy yar, City ID: 1510377\n",
      "City Name: mae hong son, City ID: 1152222\n",
      "City Name: banswara, City ID: 1277214\n",
      "City Name: ayan, City ID: 2027316\n",
      "City Name: roma, City ID: 5134295\n",
      "City Name: ostersund, City ID: 2685750\n",
      "City Name: santa lucia, City ID: 2511150\n",
      "City Name: cockburn town, City ID: 3576994\n",
      "City Name: hukuntsi, City ID: 933726\n",
      "City Name: klaksvik, City ID: 2618795\n",
      "City Name: noumea, City ID: 2139521\n",
      "City Name: kondol, City ID: 545630\n",
      "City Name: coruripe, City ID: 3465329\n",
      "City Name: comodoro rivadavia, City ID: 3860443\n",
      "City Name: santa, City ID: 1688420\n",
      "City Name: cap malheureux, City ID: 934649\n",
      "City Name: lucea, City ID: 3489657\n",
      "City Name: antofagasta, City ID: 3899539\n",
      "City Name: hokitika, City ID: 2206894\n",
      "City Name: lazdijai, City ID: 597596\n",
      "City Name: margate, City ID: 2643044\n",
      "City Name: hualmay, City ID: 3939761\n",
      "That record does not exist, searching for next record...\n",
      "City Name: jiuquan, City ID: 1279945\n",
      "City Name: los algarrobos, City ID: 3705562\n",
      "City Name: port blair, City ID: 1259385\n",
      "City Name: kaseda, City ID: 1859964\n",
      "City Name: quelimane, City ID: 1028434\n",
      "City Name: guerrero negro, City ID: 4021858\n",
      "City Name: chabahar, City ID: 1161724\n",
      "City Name: sola, City ID: 2134814\n",
      "City Name: puerto rico, City ID: 3429732\n",
      "City Name: bambanglipuro, City ID: 1650434\n",
      "That record does not exist, searching for next record...\n",
      "City Name: moyale, City ID: 186180\n",
      "That record does not exist, searching for next record...\n",
      "City Name: maceio, City ID: 3395981\n",
      "City Name: kondinskoye, City ID: 1502697\n",
      "That record does not exist, searching for next record...\n",
      "City Name: cabedelo, City ID: 3404558\n",
      "City Name: divnogorsk, City ID: 1507379\n",
      "City Name: ambilobe, City ID: 1082243\n",
      "City Name: ilheus, City ID: 3461408\n",
      "City Name: maniitsoq, City ID: 3421982\n",
      "City Name: ambon, City ID: 1651531\n",
      "City Name: bonfim, City ID: 3405215\n",
      "That record does not exist, searching for next record...\n",
      "City Name: iskandar, City ID: 1513900\n",
      "City Name: avallon, City ID: 3035768\n",
      "City Name: roebourne, City ID: 2062276\n",
      "City Name: mackay, City ID: 2159220\n",
      "City Name: sorong, City ID: 1626542\n",
      "City Name: dhenkanal, City ID: 1272780\n",
      "City Name: severo-kurilsk, City ID: 2121385\n",
      "City Name: port moresby, City ID: 2088122\n",
      "City Name: san cristobal, City ID: 3628473\n",
      "City Name: shunyi, City ID: 2034754\n",
      "City Name: birao, City ID: 240210\n",
      "City Name: novyy urengoy, City ID: 1496511\n",
      "City Name: ostrogozhsk, City ID: 514198\n",
      "City Name: angoram, City ID: 2100765\n",
      "City Name: kabompo, City ID: 916246\n",
      "City Name: nicoya, City ID: 3622716\n",
      "City Name: maryborough, City ID: 2158562\n",
      "City Name: nome, City ID: 5870133\n"
     ]
    },
    {
     "name": "stdout",
     "output_type": "stream",
     "text": [
      "City Name: mecca, City ID: 104515\n",
      "City Name: micheweni, City ID: 153955\n",
      "City Name: paramonga, City ID: 3933024\n",
      "City Name: manzhouli, City ID: 2035836\n",
      "City Name: conceicao do araguaia, City ID: 3401845\n",
      "City Name: minsk, City ID: 625144\n",
      "City Name: bengkulu, City ID: 1649150\n",
      "City Name: yarada, City ID: 1252783\n",
      "City Name: kikerino, City ID: 548763\n",
      "City Name: santa ines, City ID: 3389609\n",
      "City Name: bay roberts, City ID: 5895424\n",
      "City Name: yei, City ID: 363619\n",
      "City Name: djambala, City ID: 2260401\n",
      "City Name: businga, City ID: 217637\n",
      "City Name: novobirilyussy, City ID: 1508260\n",
      "City Name: carutapera, City ID: 3402648\n",
      "City Name: armizonskoye, City ID: 1511382\n",
      "That record does not exist, searching for next record...\n",
      "City Name: brae, City ID: 2654970\n",
      "City Name: mezen, City ID: 527321\n",
      "City Name: linguere, City ID: 2249281\n",
      "City Name: arkhangelskoye, City ID: 580993\n",
      "City Name: yerbogachen, City ID: 2012956\n",
      "City Name: shelburne, City ID: 6145890\n",
      "City Name: solenzo, City ID: 2355404\n",
      "That record does not exist, searching for next record...\n",
      "City Name: monte azul, City ID: 3456864\n",
      "City Name: berlevag, City ID: 780687\n",
      "City Name: sampit, City ID: 1628884\n",
      "That record does not exist, searching for next record...\n",
      "City Name: cermik, City ID: 318766\n",
      "City Name: jumla, City ID: 1283285\n",
      "City Name: trinidad, City ID: 3902377\n",
      "City Name: muros, City ID: 3115824\n",
      "City Name: west bay, City ID: 3580477\n",
      "City Name: san andres, City ID: 3670218\n",
      "City Name: ternate, City ID: 1624041\n",
      "City Name: salinopolis, City ID: 3389822\n",
      "City Name: sorland, City ID: 3137469\n",
      "City Name: quatre cocos, City ID: 1106643\n",
      "City Name: naze, City ID: 1855540\n",
      "City Name: rezh, City ID: 1493648\n",
      "City Name: kindu, City ID: 212902\n",
      "City Name: souillac, City ID: 933995\n",
      "City Name: san-pedro, City ID: 2282006\n",
      "City Name: mabaruma, City ID: 3377301\n",
      "City Name: price, City ID: 5545269\n",
      "City Name: severnoye, City ID: 1492607\n",
      "City Name: emerald, City ID: 2167426\n",
      "That record does not exist, searching for next record...\n",
      "That record does not exist, searching for next record...\n",
      "City Name: dicabisagan, City ID: 1715015\n",
      "City Name: road town, City ID: 3577430\n",
      "City Name: ginir, City ID: 336454\n",
      "City Name: unai, City ID: 3445764\n",
      "That record does not exist, searching for next record...\n",
      "That record does not exist, searching for next record...\n",
      "City Name: shimoda, City ID: 1852357\n",
      "City Name: wajima, City ID: 1848976\n",
      "City Name: mezhdurechensk, City ID: 1498920\n",
      "City Name: merauke, City ID: 2082539\n",
      "City Name: namibe, City ID: 3347019\n",
      "That record does not exist, searching for next record...\n",
      "City Name: tecpan, City ID: 3588476\n",
      "City Name: constitucion, City ID: 3893726\n",
      "City Name: castro alves, City ID: 3466703\n",
      "City Name: san lawrenz, City ID: 2562619\n",
      "City Name: kysyl-syr, City ID: 2021017\n",
      "City Name: yamada, City ID: 2110560\n",
      "City Name: rawson, City ID: 3839307\n",
      "City Name: labuhan, City ID: 8079926\n",
      "That record does not exist, searching for next record...\n",
      "City Name: wawa, City ID: 2319078\n",
      "City Name: nalvo, City ID: 7521301\n",
      "City Name: delta del tigre, City ID: 3442778\n",
      "City Name: fort nelson, City ID: 5955902\n",
      "City Name: diamantino, City ID: 3464724\n",
      "That record does not exist, searching for next record...\n",
      "City Name: bakchar, City ID: 1511057\n",
      "City Name: bintulu, City ID: 1737486\n",
      "City Name: canto do buriti, City ID: 3403251\n",
      "City Name: sai buri, City ID: 1606851\n",
      "City Name: los llanos de aridane, City ID: 2514651\n",
      "City Name: murdochville, City ID: 6943820\n",
      "City Name: pahrump, City ID: 5509851\n",
      "City Name: puerto del rosario, City ID: 2512186\n",
      "City Name: ahtopol, City ID: 733722\n",
      "City Name: xiazhen, City ID: 1789703\n",
      "City Name: zhigalovo, City ID: 2012532\n",
      "City Name: balkanabat, City ID: 161616\n",
      "City Name: carroll, City ID: 4350461\n",
      "City Name: korla, City ID: 1529376\n",
      "City Name: salta, City ID: 3838233\n",
      "City Name: adrar, City ID: 2381972\n",
      "City Name: sidi ali, City ID: 2487130\n",
      "City Name: saskylakh, City ID: 2017155\n",
      "City Name: marabba, City ID: 370510\n",
      "City Name: houma, City ID: 4328010\n",
      "City Name: pevek, City ID: 2122090\n",
      "City Name: arrifes, City ID: 3373329\n",
      "City Name: zalantun, City ID: 2033225\n",
      "City Name: touros, City ID: 3386213\n",
      "City Name: lazaro cardenas, City ID: 4026082\n",
      "City Name: ostrovnoy, City ID: 556268\n",
      "City Name: san quintin, City ID: 3984997\n",
      "City Name: tanout, City ID: 2439155\n",
      "City Name: upernavik, City ID: 3418910\n",
      "City Name: kruisfontein, City ID: 986717\n",
      "City Name: bichura, City ID: 2026708\n",
      "City Name: jose bonifacio, City ID: 3459667\n",
      "City Name: shawnee, City ID: 4279253\n",
      "City Name: phulji, City ID: 1168101\n",
      "City Name: pembroke, City ID: 6100832\n",
      "City Name: tangshan, City ID: 1793346\n",
      "City Name: kabalo, City ID: 215668\n",
      "City Name: port hardy, City ID: 6111862\n",
      "City Name: mawlaik, City ID: 1310120\n",
      "That record does not exist, searching for next record...\n",
      "City Name: machaneng, City ID: 933488\n",
      "City Name: komsomolskiy, City ID: 1513491\n",
      "City Name: staunton, City ID: 4787440\n",
      "City Name: crateus, City ID: 3401548\n",
      "City Name: tshikapa, City ID: 204953\n",
      "City Name: dingle, City ID: 1714733\n",
      "City Name: nadapuram, City ID: 1262302\n",
      "City Name: kuvandyk, City ID: 538138\n",
      "City Name: qui nhon, City ID: 1568574\n",
      "City Name: almas, City ID: 686458\n",
      "City Name: chandia, City ID: 1274747\n",
      "City Name: susanville, City ID: 5572400\n",
      "City Name: richards bay, City ID: 962367\n",
      "City Name: mahajanga, City ID: 1062663\n",
      "City Name: kiunga, City ID: 2093846\n",
      "City Name: coquimbo, City ID: 3893629\n",
      "City Name: kachiry, City ID: 1523662\n",
      "City Name: nalut, City ID: 2214432\n",
      "City Name: ambulu, City ID: 1621313\n",
      "City Name: solnechnyy, City ID: 2016307\n",
      "City Name: makakilo city, City ID: 5850554\n",
      "City Name: maracaibo, City ID: 3633009\n",
      "City Name: basoko, City ID: 219414\n",
      "City Name: saint-francois, City ID: 2980080\n",
      "City Name: singaraja, City ID: 1626932\n",
      "City Name: pavilosta, City ID: 456827\n",
      "City Name: santa quiteria, City ID: 3389361\n",
      "City Name: snezhnogorsk, City ID: 795243\n",
      "City Name: dharchula, City ID: 1272864\n",
      "City Name: caiaponia, City ID: 3468234\n",
      "City Name: hasaki, City ID: 2112802\n",
      "City Name: birjand, City ID: 140463\n",
      "City Name: lubango, City ID: 3347762\n",
      "City Name: mount isa, City ID: 2065594\n",
      "City Name: beira, City ID: 1052373\n",
      "City Name: lasa, City ID: 3175096\n",
      "That record does not exist, searching for next record...\n",
      "City Name: anito, City ID: 1730622\n",
      "City Name: tongliao, City ID: 2034400\n",
      "That record does not exist, searching for next record...\n",
      "City Name: wanlaweyn, City ID: 50672\n",
      "City Name: henties bay, City ID: 3356832\n",
      "That record does not exist, searching for next record...\n",
      "City Name: ghorawal, City ID: 1271264\n",
      "City Name: conakry, City ID: 2422465\n",
      "City Name: sao joao de pirabas, City ID: 3388626\n",
      "City Name: namatanai, City ID: 2090021\n",
      "City Name: sistranda, City ID: 3139597\n"
     ]
    }
   ],
   "source": [
    "# Set base url and units variables, and combine them to get the query url\n",
    "url = \"http://api.openweathermap.org/data/2.5/weather?\"\n",
    "units = \"imperial\"\n",
    "query_url = f\"{url}appid={weather_api_key}&units={units}&q=\"\n",
    "\n",
    "# Create empty lists to store the data for each field\n",
    "city_id_list = []\n",
    "city_name_list = []\n",
    "country_list = []\n",
    "date= []\n",
    "lng_list = []\n",
    "lat_list = []\n",
    "temp_list = []\n",
    "humidity_list = []\n",
    "clouds_list = []\n",
    "wind_speed_list = []\n",
    "\n",
    "# Loop through cities\n",
    "for city in cities:\n",
    "    \n",
    "    \n",
    "    response_json = requests.get(query_url + city).json()\n",
    "    \n",
    "    # Start the error handling\n",
    "    # Retrieve the items for each field and append them to the empty lists  \n",
    "    try:\n",
    "        \n",
    "        city_id = response_json['id']\n",
    "        city_id_list.append(city_id)\n",
    "            \n",
    "        city_name = response_json['name']\n",
    "        city_name_list.append(city_name)\n",
    "        \n",
    "        country_name = response_json['sys']['country']\n",
    "        country_list.append(country_name)\n",
    "        \n",
    "        date.append(datetime.datetime.fromtimestamp(response_json['dt']).strftime(\"%A, %d %B %Y %I:%M%p\"))\n",
    "\n",
    "        lng = response_json['coord']['lon']\n",
    "        lng_list.append(lng)\n",
    "\n",
    "        lat = response_json['coord']['lat']\n",
    "        lat_list.append(lat)\n",
    "\n",
    "        temp = response_json['main']['temp']\n",
    "        temp_list.append(temp)\n",
    "\n",
    "        humidity = response_json['main']['humidity']\n",
    "        humidity_list.append(humidity)\n",
    "\n",
    "        clouds = response_json['clouds']['all']\n",
    "        clouds_list.append(clouds)\n",
    "\n",
    "        wind_speed = response_json['wind']['speed']\n",
    "        wind_speed_list.append(wind_speed)\n",
    "    \n",
    "        print(f\"City Name: {city}, City ID: {city_id}\")\n",
    "    \n",
    "    # Print error message and move on to the next city if there is an error\n",
    "    except:\n",
    "        \n",
    "        print(\"That record does not exist, searching for next record...\")\n"
   ]
  },
  {
   "cell_type": "code",
   "execution_count": 8,
   "metadata": {},
   "outputs": [
    {
     "data": {
      "text/plain": [
       "'Monday, 17 May 2021 01:09PM'"
      ]
     },
     "execution_count": 8,
     "metadata": {},
     "output_type": "execute_result"
    }
   ],
   "source": [
    "datetime.datetime.fromtimestamp(response_json['dt']).strftime(\"%A, %d %B %Y %I:%M%p\")"
   ]
  },
  {
   "cell_type": "markdown",
   "metadata": {},
   "source": [
    "### Convert Raw Data to DataFrame\n",
    "* Export the city data into a .csv.\n",
    "* Display the DataFrame"
   ]
  },
  {
   "cell_type": "code",
   "execution_count": 9,
   "metadata": {},
   "outputs": [
    {
     "data": {
      "text/plain": [
       "['Monday, 17 May 2021 01:07PM',\n",
       " 'Monday, 17 May 2021 01:07PM',\n",
       " 'Monday, 17 May 2021 01:07PM',\n",
       " 'Monday, 17 May 2021 01:07PM',\n",
       " 'Monday, 17 May 2021 01:07PM',\n",
       " 'Monday, 17 May 2021 01:07PM',\n",
       " 'Monday, 17 May 2021 01:05PM',\n",
       " 'Monday, 17 May 2021 01:07PM',\n",
       " 'Monday, 17 May 2021 01:07PM',\n",
       " 'Monday, 17 May 2021 01:07PM',\n",
       " 'Monday, 17 May 2021 01:07PM',\n",
       " 'Monday, 17 May 2021 01:07PM',\n",
       " 'Monday, 17 May 2021 01:07PM',\n",
       " 'Monday, 17 May 2021 01:07PM',\n",
       " 'Monday, 17 May 2021 01:06PM',\n",
       " 'Monday, 17 May 2021 01:07PM',\n",
       " 'Monday, 17 May 2021 01:07PM',\n",
       " 'Monday, 17 May 2021 01:07PM',\n",
       " 'Monday, 17 May 2021 01:07PM',\n",
       " 'Monday, 17 May 2021 01:03PM',\n",
       " 'Monday, 17 May 2021 01:04PM',\n",
       " 'Monday, 17 May 2021 01:07PM',\n",
       " 'Monday, 17 May 2021 01:07PM',\n",
       " 'Monday, 17 May 2021 01:07PM',\n",
       " 'Monday, 17 May 2021 01:02PM',\n",
       " 'Monday, 17 May 2021 01:07PM',\n",
       " 'Monday, 17 May 2021 01:07PM',\n",
       " 'Monday, 17 May 2021 01:07PM',\n",
       " 'Monday, 17 May 2021 01:07PM',\n",
       " 'Monday, 17 May 2021 01:07PM',\n",
       " 'Monday, 17 May 2021 01:07PM',\n",
       " 'Monday, 17 May 2021 01:07PM',\n",
       " 'Monday, 17 May 2021 01:07PM',\n",
       " 'Monday, 17 May 2021 01:07PM',\n",
       " 'Monday, 17 May 2021 01:07PM',\n",
       " 'Monday, 17 May 2021 01:07PM',\n",
       " 'Monday, 17 May 2021 01:07PM',\n",
       " 'Monday, 17 May 2021 01:07PM',\n",
       " 'Monday, 17 May 2021 01:07PM',\n",
       " 'Monday, 17 May 2021 01:07PM',\n",
       " 'Monday, 17 May 2021 01:07PM',\n",
       " 'Monday, 17 May 2021 01:07PM',\n",
       " 'Monday, 17 May 2021 01:07PM',\n",
       " 'Monday, 17 May 2021 01:07PM',\n",
       " 'Monday, 17 May 2021 01:07PM',\n",
       " 'Monday, 17 May 2021 01:07PM',\n",
       " 'Monday, 17 May 2021 01:07PM',\n",
       " 'Monday, 17 May 2021 01:07PM',\n",
       " 'Monday, 17 May 2021 01:07PM',\n",
       " 'Monday, 17 May 2021 01:07PM',\n",
       " 'Monday, 17 May 2021 01:07PM',\n",
       " 'Monday, 17 May 2021 01:07PM',\n",
       " 'Monday, 17 May 2021 01:07PM',\n",
       " 'Monday, 17 May 2021 01:07PM',\n",
       " 'Monday, 17 May 2021 01:07PM',\n",
       " 'Monday, 17 May 2021 01:07PM',\n",
       " 'Monday, 17 May 2021 01:07PM',\n",
       " 'Monday, 17 May 2021 01:07PM',\n",
       " 'Monday, 17 May 2021 01:07PM',\n",
       " 'Monday, 17 May 2021 01:07PM',\n",
       " 'Monday, 17 May 2021 01:07PM',\n",
       " 'Monday, 17 May 2021 01:03PM',\n",
       " 'Monday, 17 May 2021 01:07PM',\n",
       " 'Monday, 17 May 2021 01:07PM',\n",
       " 'Monday, 17 May 2021 01:07PM',\n",
       " 'Monday, 17 May 2021 01:07PM',\n",
       " 'Monday, 17 May 2021 01:07PM',\n",
       " 'Monday, 17 May 2021 01:07PM',\n",
       " 'Monday, 17 May 2021 01:07PM',\n",
       " 'Monday, 17 May 2021 01:07PM',\n",
       " 'Monday, 17 May 2021 01:05PM',\n",
       " 'Monday, 17 May 2021 01:07PM',\n",
       " 'Monday, 17 May 2021 01:07PM',\n",
       " 'Monday, 17 May 2021 01:06PM',\n",
       " 'Monday, 17 May 2021 01:07PM',\n",
       " 'Monday, 17 May 2021 01:07PM',\n",
       " 'Monday, 17 May 2021 01:07PM',\n",
       " 'Monday, 17 May 2021 01:07PM',\n",
       " 'Monday, 17 May 2021 01:07PM',\n",
       " 'Monday, 17 May 2021 01:07PM',\n",
       " 'Monday, 17 May 2021 01:07PM',\n",
       " 'Monday, 17 May 2021 01:07PM',\n",
       " 'Monday, 17 May 2021 01:07PM',\n",
       " 'Monday, 17 May 2021 01:07PM',\n",
       " 'Monday, 17 May 2021 01:07PM',\n",
       " 'Monday, 17 May 2021 01:06PM',\n",
       " 'Monday, 17 May 2021 01:07PM',\n",
       " 'Monday, 17 May 2021 01:07PM',\n",
       " 'Monday, 17 May 2021 01:07PM',\n",
       " 'Monday, 17 May 2021 01:07PM',\n",
       " 'Monday, 17 May 2021 01:07PM',\n",
       " 'Monday, 17 May 2021 01:04PM',\n",
       " 'Monday, 17 May 2021 01:07PM',\n",
       " 'Monday, 17 May 2021 01:07PM',\n",
       " 'Monday, 17 May 2021 01:07PM',\n",
       " 'Monday, 17 May 2021 01:07PM',\n",
       " 'Monday, 17 May 2021 01:07PM',\n",
       " 'Monday, 17 May 2021 01:07PM',\n",
       " 'Monday, 17 May 2021 01:07PM',\n",
       " 'Monday, 17 May 2021 01:07PM',\n",
       " 'Monday, 17 May 2021 01:07PM',\n",
       " 'Monday, 17 May 2021 01:07PM',\n",
       " 'Monday, 17 May 2021 01:07PM',\n",
       " 'Monday, 17 May 2021 01:07PM',\n",
       " 'Monday, 17 May 2021 01:07PM',\n",
       " 'Monday, 17 May 2021 01:07PM',\n",
       " 'Monday, 17 May 2021 01:04PM',\n",
       " 'Monday, 17 May 2021 01:07PM',\n",
       " 'Monday, 17 May 2021 01:07PM',\n",
       " 'Monday, 17 May 2021 01:07PM',\n",
       " 'Monday, 17 May 2021 01:07PM',\n",
       " 'Monday, 17 May 2021 01:07PM',\n",
       " 'Monday, 17 May 2021 01:07PM',\n",
       " 'Monday, 17 May 2021 01:07PM',\n",
       " 'Monday, 17 May 2021 01:07PM',\n",
       " 'Monday, 17 May 2021 01:07PM',\n",
       " 'Monday, 17 May 2021 01:07PM',\n",
       " 'Monday, 17 May 2021 01:07PM',\n",
       " 'Monday, 17 May 2021 01:07PM',\n",
       " 'Monday, 17 May 2021 01:07PM',\n",
       " 'Monday, 17 May 2021 01:07PM',\n",
       " 'Monday, 17 May 2021 01:07PM',\n",
       " 'Monday, 17 May 2021 01:07PM',\n",
       " 'Monday, 17 May 2021 01:07PM',\n",
       " 'Monday, 17 May 2021 01:07PM',\n",
       " 'Monday, 17 May 2021 01:07PM',\n",
       " 'Monday, 17 May 2021 01:03PM',\n",
       " 'Monday, 17 May 2021 01:07PM',\n",
       " 'Monday, 17 May 2021 01:07PM',\n",
       " 'Monday, 17 May 2021 01:07PM',\n",
       " 'Monday, 17 May 2021 01:03PM',\n",
       " 'Monday, 17 May 2021 01:07PM',\n",
       " 'Monday, 17 May 2021 01:07PM',\n",
       " 'Monday, 17 May 2021 01:07PM',\n",
       " 'Monday, 17 May 2021 01:08PM',\n",
       " 'Monday, 17 May 2021 01:06PM',\n",
       " 'Monday, 17 May 2021 01:04PM',\n",
       " 'Monday, 17 May 2021 01:08PM',\n",
       " 'Monday, 17 May 2021 01:08PM',\n",
       " 'Monday, 17 May 2021 01:08PM',\n",
       " 'Monday, 17 May 2021 01:08PM',\n",
       " 'Monday, 17 May 2021 01:08PM',\n",
       " 'Monday, 17 May 2021 01:06PM',\n",
       " 'Monday, 17 May 2021 01:08PM',\n",
       " 'Monday, 17 May 2021 01:08PM',\n",
       " 'Monday, 17 May 2021 01:08PM',\n",
       " 'Monday, 17 May 2021 01:08PM',\n",
       " 'Monday, 17 May 2021 01:08PM',\n",
       " 'Monday, 17 May 2021 01:04PM',\n",
       " 'Monday, 17 May 2021 01:08PM',\n",
       " 'Monday, 17 May 2021 01:08PM',\n",
       " 'Monday, 17 May 2021 01:06PM',\n",
       " 'Monday, 17 May 2021 01:08PM',\n",
       " 'Monday, 17 May 2021 01:08PM',\n",
       " 'Monday, 17 May 2021 01:07PM',\n",
       " 'Monday, 17 May 2021 01:08PM',\n",
       " 'Monday, 17 May 2021 01:06PM',\n",
       " 'Monday, 17 May 2021 01:08PM',\n",
       " 'Monday, 17 May 2021 01:08PM',\n",
       " 'Monday, 17 May 2021 01:08PM',\n",
       " 'Monday, 17 May 2021 01:08PM',\n",
       " 'Monday, 17 May 2021 01:08PM',\n",
       " 'Monday, 17 May 2021 01:08PM',\n",
       " 'Monday, 17 May 2021 01:08PM',\n",
       " 'Monday, 17 May 2021 01:08PM',\n",
       " 'Monday, 17 May 2021 01:08PM',\n",
       " 'Monday, 17 May 2021 01:08PM',\n",
       " 'Monday, 17 May 2021 01:08PM',\n",
       " 'Monday, 17 May 2021 01:08PM',\n",
       " 'Monday, 17 May 2021 01:08PM',\n",
       " 'Monday, 17 May 2021 01:08PM',\n",
       " 'Monday, 17 May 2021 01:07PM',\n",
       " 'Monday, 17 May 2021 01:08PM',\n",
       " 'Monday, 17 May 2021 01:08PM',\n",
       " 'Monday, 17 May 2021 01:08PM',\n",
       " 'Monday, 17 May 2021 01:08PM',\n",
       " 'Monday, 17 May 2021 01:08PM',\n",
       " 'Monday, 17 May 2021 01:08PM',\n",
       " 'Monday, 17 May 2021 01:08PM',\n",
       " 'Monday, 17 May 2021 01:08PM',\n",
       " 'Monday, 17 May 2021 01:05PM',\n",
       " 'Monday, 17 May 2021 01:08PM',\n",
       " 'Monday, 17 May 2021 01:08PM',\n",
       " 'Monday, 17 May 2021 01:05PM',\n",
       " 'Monday, 17 May 2021 01:08PM',\n",
       " 'Monday, 17 May 2021 01:08PM',\n",
       " 'Monday, 17 May 2021 01:08PM',\n",
       " 'Monday, 17 May 2021 01:08PM',\n",
       " 'Monday, 17 May 2021 01:08PM',\n",
       " 'Monday, 17 May 2021 01:08PM',\n",
       " 'Monday, 17 May 2021 01:05PM',\n",
       " 'Monday, 17 May 2021 01:08PM',\n",
       " 'Monday, 17 May 2021 01:08PM',\n",
       " 'Monday, 17 May 2021 01:03PM',\n",
       " 'Monday, 17 May 2021 01:08PM',\n",
       " 'Monday, 17 May 2021 01:08PM',\n",
       " 'Monday, 17 May 2021 01:08PM',\n",
       " 'Monday, 17 May 2021 01:08PM',\n",
       " 'Monday, 17 May 2021 01:08PM',\n",
       " 'Monday, 17 May 2021 01:08PM',\n",
       " 'Monday, 17 May 2021 01:08PM',\n",
       " 'Monday, 17 May 2021 01:08PM',\n",
       " 'Monday, 17 May 2021 01:08PM',\n",
       " 'Monday, 17 May 2021 01:08PM',\n",
       " 'Monday, 17 May 2021 01:08PM',\n",
       " 'Monday, 17 May 2021 01:08PM',\n",
       " 'Monday, 17 May 2021 01:08PM',\n",
       " 'Monday, 17 May 2021 01:08PM',\n",
       " 'Monday, 17 May 2021 01:08PM',\n",
       " 'Monday, 17 May 2021 01:07PM',\n",
       " 'Monday, 17 May 2021 01:08PM',\n",
       " 'Monday, 17 May 2021 01:08PM',\n",
       " 'Monday, 17 May 2021 01:08PM',\n",
       " 'Monday, 17 May 2021 01:08PM',\n",
       " 'Monday, 17 May 2021 01:08PM',\n",
       " 'Monday, 17 May 2021 01:08PM',\n",
       " 'Monday, 17 May 2021 01:08PM',\n",
       " 'Monday, 17 May 2021 01:08PM',\n",
       " 'Monday, 17 May 2021 01:08PM',\n",
       " 'Monday, 17 May 2021 01:08PM',\n",
       " 'Monday, 17 May 2021 01:08PM',\n",
       " 'Monday, 17 May 2021 01:04PM',\n",
       " 'Monday, 17 May 2021 01:08PM',\n",
       " 'Monday, 17 May 2021 01:05PM',\n",
       " 'Monday, 17 May 2021 01:08PM',\n",
       " 'Monday, 17 May 2021 01:08PM',\n",
       " 'Monday, 17 May 2021 01:08PM',\n",
       " 'Monday, 17 May 2021 01:08PM',\n",
       " 'Monday, 17 May 2021 01:08PM',\n",
       " 'Monday, 17 May 2021 01:08PM',\n",
       " 'Monday, 17 May 2021 01:08PM',\n",
       " 'Monday, 17 May 2021 01:08PM',\n",
       " 'Monday, 17 May 2021 01:08PM',\n",
       " 'Monday, 17 May 2021 01:08PM',\n",
       " 'Monday, 17 May 2021 01:08PM',\n",
       " 'Monday, 17 May 2021 01:08PM',\n",
       " 'Monday, 17 May 2021 01:08PM',\n",
       " 'Monday, 17 May 2021 01:08PM',\n",
       " 'Monday, 17 May 2021 01:08PM',\n",
       " 'Monday, 17 May 2021 01:08PM',\n",
       " 'Monday, 17 May 2021 01:08PM',\n",
       " 'Monday, 17 May 2021 01:04PM',\n",
       " 'Monday, 17 May 2021 01:08PM',\n",
       " 'Monday, 17 May 2021 01:08PM',\n",
       " 'Monday, 17 May 2021 01:08PM',\n",
       " 'Monday, 17 May 2021 01:08PM',\n",
       " 'Monday, 17 May 2021 01:08PM',\n",
       " 'Monday, 17 May 2021 01:08PM',\n",
       " 'Monday, 17 May 2021 01:05PM',\n",
       " 'Monday, 17 May 2021 01:08PM',\n",
       " 'Monday, 17 May 2021 01:08PM',\n",
       " 'Monday, 17 May 2021 01:08PM',\n",
       " 'Monday, 17 May 2021 01:05PM',\n",
       " 'Monday, 17 May 2021 01:08PM',\n",
       " 'Monday, 17 May 2021 01:08PM',\n",
       " 'Monday, 17 May 2021 01:08PM',\n",
       " 'Monday, 17 May 2021 01:08PM',\n",
       " 'Monday, 17 May 2021 01:08PM',\n",
       " 'Monday, 17 May 2021 01:08PM',\n",
       " 'Monday, 17 May 2021 01:03PM',\n",
       " 'Monday, 17 May 2021 01:08PM',\n",
       " 'Monday, 17 May 2021 01:08PM',\n",
       " 'Monday, 17 May 2021 01:06PM',\n",
       " 'Monday, 17 May 2021 01:08PM',\n",
       " 'Monday, 17 May 2021 01:08PM',\n",
       " 'Monday, 17 May 2021 01:08PM',\n",
       " 'Monday, 17 May 2021 01:08PM',\n",
       " 'Monday, 17 May 2021 01:08PM',\n",
       " 'Monday, 17 May 2021 01:08PM',\n",
       " 'Monday, 17 May 2021 01:08PM',\n",
       " 'Monday, 17 May 2021 01:08PM',\n",
       " 'Monday, 17 May 2021 01:08PM',\n",
       " 'Monday, 17 May 2021 01:08PM',\n",
       " 'Monday, 17 May 2021 01:08PM',\n",
       " 'Monday, 17 May 2021 01:08PM',\n",
       " 'Monday, 17 May 2021 01:08PM',\n",
       " 'Monday, 17 May 2021 01:08PM',\n",
       " 'Monday, 17 May 2021 01:08PM',\n",
       " 'Monday, 17 May 2021 01:08PM',\n",
       " 'Monday, 17 May 2021 01:08PM',\n",
       " 'Monday, 17 May 2021 01:08PM',\n",
       " 'Monday, 17 May 2021 01:08PM',\n",
       " 'Monday, 17 May 2021 01:08PM',\n",
       " 'Monday, 17 May 2021 01:08PM',\n",
       " 'Monday, 17 May 2021 01:08PM',\n",
       " 'Monday, 17 May 2021 01:08PM',\n",
       " 'Monday, 17 May 2021 01:07PM',\n",
       " 'Monday, 17 May 2021 01:04PM',\n",
       " 'Monday, 17 May 2021 01:06PM',\n",
       " 'Monday, 17 May 2021 01:08PM',\n",
       " 'Monday, 17 May 2021 01:08PM',\n",
       " 'Monday, 17 May 2021 01:07PM',\n",
       " 'Monday, 17 May 2021 01:06PM',\n",
       " 'Monday, 17 May 2021 01:08PM',\n",
       " 'Monday, 17 May 2021 01:08PM',\n",
       " 'Monday, 17 May 2021 01:08PM',\n",
       " 'Monday, 17 May 2021 01:08PM',\n",
       " 'Monday, 17 May 2021 01:08PM',\n",
       " 'Monday, 17 May 2021 01:08PM',\n",
       " 'Monday, 17 May 2021 01:06PM',\n",
       " 'Monday, 17 May 2021 01:08PM',\n",
       " 'Monday, 17 May 2021 01:08PM',\n",
       " 'Monday, 17 May 2021 01:08PM',\n",
       " 'Monday, 17 May 2021 01:08PM',\n",
       " 'Monday, 17 May 2021 01:08PM',\n",
       " 'Monday, 17 May 2021 01:08PM',\n",
       " 'Monday, 17 May 2021 01:08PM',\n",
       " 'Monday, 17 May 2021 01:08PM',\n",
       " 'Monday, 17 May 2021 01:08PM',\n",
       " 'Monday, 17 May 2021 01:08PM',\n",
       " 'Monday, 17 May 2021 01:08PM',\n",
       " 'Monday, 17 May 2021 01:08PM',\n",
       " 'Monday, 17 May 2021 01:08PM',\n",
       " 'Monday, 17 May 2021 01:08PM',\n",
       " 'Monday, 17 May 2021 01:08PM',\n",
       " 'Monday, 17 May 2021 01:08PM',\n",
       " 'Monday, 17 May 2021 01:08PM',\n",
       " 'Monday, 17 May 2021 01:08PM',\n",
       " 'Monday, 17 May 2021 01:08PM',\n",
       " 'Monday, 17 May 2021 01:08PM',\n",
       " 'Monday, 17 May 2021 01:08PM',\n",
       " 'Monday, 17 May 2021 01:08PM',\n",
       " 'Monday, 17 May 2021 01:08PM',\n",
       " 'Monday, 17 May 2021 01:08PM',\n",
       " 'Monday, 17 May 2021 01:08PM',\n",
       " 'Monday, 17 May 2021 01:06PM',\n",
       " 'Monday, 17 May 2021 01:08PM',\n",
       " 'Monday, 17 May 2021 01:06PM',\n",
       " 'Monday, 17 May 2021 01:08PM',\n",
       " 'Monday, 17 May 2021 01:08PM',\n",
       " 'Monday, 17 May 2021 01:08PM',\n",
       " 'Monday, 17 May 2021 01:08PM',\n",
       " 'Monday, 17 May 2021 01:08PM',\n",
       " 'Monday, 17 May 2021 01:07PM',\n",
       " 'Monday, 17 May 2021 01:08PM',\n",
       " 'Monday, 17 May 2021 01:08PM',\n",
       " 'Monday, 17 May 2021 01:08PM',\n",
       " 'Monday, 17 May 2021 01:08PM',\n",
       " 'Monday, 17 May 2021 01:08PM',\n",
       " 'Monday, 17 May 2021 01:08PM',\n",
       " 'Monday, 17 May 2021 01:08PM',\n",
       " 'Monday, 17 May 2021 01:08PM',\n",
       " 'Monday, 17 May 2021 01:08PM',\n",
       " 'Monday, 17 May 2021 01:08PM',\n",
       " 'Monday, 17 May 2021 01:08PM',\n",
       " 'Monday, 17 May 2021 01:08PM',\n",
       " 'Monday, 17 May 2021 01:08PM',\n",
       " 'Monday, 17 May 2021 01:08PM',\n",
       " 'Monday, 17 May 2021 01:08PM',\n",
       " 'Monday, 17 May 2021 01:08PM',\n",
       " 'Monday, 17 May 2021 01:08PM',\n",
       " 'Monday, 17 May 2021 01:08PM',\n",
       " 'Monday, 17 May 2021 01:08PM',\n",
       " 'Monday, 17 May 2021 01:08PM',\n",
       " 'Monday, 17 May 2021 01:08PM',\n",
       " 'Monday, 17 May 2021 01:06PM',\n",
       " 'Monday, 17 May 2021 01:08PM',\n",
       " 'Monday, 17 May 2021 01:08PM',\n",
       " 'Monday, 17 May 2021 01:08PM',\n",
       " 'Monday, 17 May 2021 01:08PM',\n",
       " 'Monday, 17 May 2021 01:08PM',\n",
       " 'Monday, 17 May 2021 01:08PM',\n",
       " 'Monday, 17 May 2021 01:08PM',\n",
       " 'Monday, 17 May 2021 01:08PM',\n",
       " 'Monday, 17 May 2021 01:08PM',\n",
       " 'Monday, 17 May 2021 01:08PM',\n",
       " 'Monday, 17 May 2021 01:08PM',\n",
       " 'Monday, 17 May 2021 01:08PM',\n",
       " 'Monday, 17 May 2021 01:08PM',\n",
       " 'Monday, 17 May 2021 01:08PM',\n",
       " 'Monday, 17 May 2021 01:08PM',\n",
       " 'Monday, 17 May 2021 01:08PM',\n",
       " 'Monday, 17 May 2021 01:05PM',\n",
       " 'Monday, 17 May 2021 01:08PM',\n",
       " 'Monday, 17 May 2021 01:08PM',\n",
       " 'Monday, 17 May 2021 01:08PM',\n",
       " 'Monday, 17 May 2021 01:08PM',\n",
       " 'Monday, 17 May 2021 01:08PM',\n",
       " 'Monday, 17 May 2021 01:08PM',\n",
       " 'Monday, 17 May 2021 01:08PM',\n",
       " 'Monday, 17 May 2021 01:04PM',\n",
       " 'Monday, 17 May 2021 01:08PM',\n",
       " 'Monday, 17 May 2021 01:08PM',\n",
       " 'Monday, 17 May 2021 01:08PM',\n",
       " 'Monday, 17 May 2021 01:08PM',\n",
       " 'Monday, 17 May 2021 01:08PM',\n",
       " 'Monday, 17 May 2021 01:08PM',\n",
       " 'Monday, 17 May 2021 01:08PM',\n",
       " 'Monday, 17 May 2021 01:06PM',\n",
       " 'Monday, 17 May 2021 01:08PM',\n",
       " 'Monday, 17 May 2021 01:08PM',\n",
       " 'Monday, 17 May 2021 01:08PM',\n",
       " 'Monday, 17 May 2021 01:08PM',\n",
       " 'Monday, 17 May 2021 01:08PM',\n",
       " 'Monday, 17 May 2021 01:08PM',\n",
       " 'Monday, 17 May 2021 01:08PM',\n",
       " 'Monday, 17 May 2021 01:08PM',\n",
       " 'Monday, 17 May 2021 01:08PM',\n",
       " 'Monday, 17 May 2021 01:08PM',\n",
       " 'Monday, 17 May 2021 01:09PM',\n",
       " 'Monday, 17 May 2021 01:09PM',\n",
       " 'Monday, 17 May 2021 01:09PM',\n",
       " 'Monday, 17 May 2021 01:09PM',\n",
       " 'Monday, 17 May 2021 01:09PM',\n",
       " 'Monday, 17 May 2021 01:09PM',\n",
       " 'Monday, 17 May 2021 01:09PM',\n",
       " 'Monday, 17 May 2021 01:09PM',\n",
       " 'Monday, 17 May 2021 01:09PM',\n",
       " 'Monday, 17 May 2021 01:09PM',\n",
       " 'Monday, 17 May 2021 01:09PM',\n",
       " 'Monday, 17 May 2021 01:09PM',\n",
       " 'Monday, 17 May 2021 01:09PM',\n",
       " 'Monday, 17 May 2021 01:09PM',\n",
       " 'Monday, 17 May 2021 01:09PM',\n",
       " 'Monday, 17 May 2021 01:09PM',\n",
       " 'Monday, 17 May 2021 01:08PM',\n",
       " 'Monday, 17 May 2021 01:09PM',\n",
       " 'Monday, 17 May 2021 01:09PM',\n",
       " 'Monday, 17 May 2021 01:09PM',\n",
       " 'Monday, 17 May 2021 01:09PM',\n",
       " 'Monday, 17 May 2021 01:09PM',\n",
       " 'Monday, 17 May 2021 01:09PM',\n",
       " 'Monday, 17 May 2021 01:09PM',\n",
       " 'Monday, 17 May 2021 01:09PM',\n",
       " 'Monday, 17 May 2021 01:09PM',\n",
       " 'Monday, 17 May 2021 01:09PM',\n",
       " 'Monday, 17 May 2021 01:09PM',\n",
       " 'Monday, 17 May 2021 01:09PM',\n",
       " 'Monday, 17 May 2021 01:09PM',\n",
       " 'Monday, 17 May 2021 01:09PM',\n",
       " 'Monday, 17 May 2021 01:08PM',\n",
       " 'Monday, 17 May 2021 01:09PM',\n",
       " 'Monday, 17 May 2021 01:09PM',\n",
       " 'Monday, 17 May 2021 01:09PM',\n",
       " 'Monday, 17 May 2021 01:09PM',\n",
       " 'Monday, 17 May 2021 01:09PM',\n",
       " 'Monday, 17 May 2021 01:09PM',\n",
       " 'Monday, 17 May 2021 01:09PM',\n",
       " 'Monday, 17 May 2021 01:09PM',\n",
       " 'Monday, 17 May 2021 01:09PM',\n",
       " 'Monday, 17 May 2021 01:09PM',\n",
       " 'Monday, 17 May 2021 01:09PM',\n",
       " 'Monday, 17 May 2021 01:09PM',\n",
       " 'Monday, 17 May 2021 01:09PM',\n",
       " 'Monday, 17 May 2021 01:09PM',\n",
       " 'Monday, 17 May 2021 01:09PM',\n",
       " 'Monday, 17 May 2021 01:09PM',\n",
       " 'Monday, 17 May 2021 01:09PM',\n",
       " 'Monday, 17 May 2021 01:09PM',\n",
       " 'Monday, 17 May 2021 01:06PM',\n",
       " 'Monday, 17 May 2021 01:09PM',\n",
       " 'Monday, 17 May 2021 01:09PM',\n",
       " 'Monday, 17 May 2021 01:09PM',\n",
       " 'Monday, 17 May 2021 01:09PM',\n",
       " 'Monday, 17 May 2021 01:09PM',\n",
       " 'Monday, 17 May 2021 01:09PM',\n",
       " 'Monday, 17 May 2021 01:09PM',\n",
       " 'Monday, 17 May 2021 01:09PM',\n",
       " 'Monday, 17 May 2021 01:09PM',\n",
       " 'Monday, 17 May 2021 01:09PM',\n",
       " 'Monday, 17 May 2021 01:09PM',\n",
       " 'Monday, 17 May 2021 01:09PM',\n",
       " 'Monday, 17 May 2021 01:09PM',\n",
       " 'Monday, 17 May 2021 01:09PM',\n",
       " 'Monday, 17 May 2021 01:09PM',\n",
       " 'Monday, 17 May 2021 01:09PM',\n",
       " 'Monday, 17 May 2021 01:09PM',\n",
       " 'Monday, 17 May 2021 01:09PM',\n",
       " 'Monday, 17 May 2021 01:09PM',\n",
       " 'Monday, 17 May 2021 01:09PM',\n",
       " 'Monday, 17 May 2021 01:09PM',\n",
       " 'Monday, 17 May 2021 01:09PM',\n",
       " 'Monday, 17 May 2021 01:09PM',\n",
       " 'Monday, 17 May 2021 01:09PM',\n",
       " 'Monday, 17 May 2021 01:09PM',\n",
       " 'Monday, 17 May 2021 01:09PM',\n",
       " 'Monday, 17 May 2021 01:09PM',\n",
       " 'Monday, 17 May 2021 01:09PM',\n",
       " 'Monday, 17 May 2021 01:09PM',\n",
       " 'Monday, 17 May 2021 01:09PM',\n",
       " 'Monday, 17 May 2021 01:09PM',\n",
       " 'Monday, 17 May 2021 01:09PM',\n",
       " 'Monday, 17 May 2021 01:09PM',\n",
       " 'Monday, 17 May 2021 01:04PM',\n",
       " 'Monday, 17 May 2021 01:09PM',\n",
       " 'Monday, 17 May 2021 01:09PM',\n",
       " 'Monday, 17 May 2021 01:05PM',\n",
       " 'Monday, 17 May 2021 01:09PM',\n",
       " 'Monday, 17 May 2021 01:09PM',\n",
       " 'Monday, 17 May 2021 01:09PM',\n",
       " 'Monday, 17 May 2021 01:09PM',\n",
       " 'Monday, 17 May 2021 01:09PM',\n",
       " 'Monday, 17 May 2021 01:09PM',\n",
       " 'Monday, 17 May 2021 01:09PM',\n",
       " 'Monday, 17 May 2021 01:09PM',\n",
       " 'Monday, 17 May 2021 01:09PM',\n",
       " 'Monday, 17 May 2021 01:09PM',\n",
       " 'Monday, 17 May 2021 01:09PM',\n",
       " 'Monday, 17 May 2021 01:09PM',\n",
       " 'Monday, 17 May 2021 01:09PM',\n",
       " 'Monday, 17 May 2021 01:09PM',\n",
       " 'Monday, 17 May 2021 01:09PM',\n",
       " 'Monday, 17 May 2021 01:09PM',\n",
       " 'Monday, 17 May 2021 01:09PM',\n",
       " 'Monday, 17 May 2021 01:09PM',\n",
       " 'Monday, 17 May 2021 01:09PM',\n",
       " 'Monday, 17 May 2021 01:09PM',\n",
       " 'Monday, 17 May 2021 01:09PM',\n",
       " 'Monday, 17 May 2021 01:09PM',\n",
       " 'Monday, 17 May 2021 01:09PM',\n",
       " 'Monday, 17 May 2021 01:09PM',\n",
       " 'Monday, 17 May 2021 01:09PM',\n",
       " 'Monday, 17 May 2021 01:09PM',\n",
       " 'Monday, 17 May 2021 01:09PM',\n",
       " 'Monday, 17 May 2021 01:09PM',\n",
       " 'Monday, 17 May 2021 01:09PM',\n",
       " 'Monday, 17 May 2021 01:09PM',\n",
       " 'Monday, 17 May 2021 01:09PM',\n",
       " 'Monday, 17 May 2021 01:09PM',\n",
       " 'Monday, 17 May 2021 01:09PM',\n",
       " 'Monday, 17 May 2021 01:09PM',\n",
       " 'Monday, 17 May 2021 01:09PM',\n",
       " 'Monday, 17 May 2021 01:09PM',\n",
       " 'Monday, 17 May 2021 01:09PM',\n",
       " 'Monday, 17 May 2021 01:09PM',\n",
       " 'Monday, 17 May 2021 01:09PM',\n",
       " 'Monday, 17 May 2021 01:09PM',\n",
       " 'Monday, 17 May 2021 01:09PM',\n",
       " 'Monday, 17 May 2021 01:09PM',\n",
       " 'Monday, 17 May 2021 01:09PM',\n",
       " 'Monday, 17 May 2021 01:09PM',\n",
       " 'Monday, 17 May 2021 01:09PM',\n",
       " 'Monday, 17 May 2021 01:09PM',\n",
       " 'Monday, 17 May 2021 01:09PM',\n",
       " 'Monday, 17 May 2021 01:09PM']"
      ]
     },
     "execution_count": 9,
     "metadata": {},
     "output_type": "execute_result"
    }
   ],
   "source": [
    "date"
   ]
  },
  {
   "cell_type": "code",
   "execution_count": 10,
   "metadata": {},
   "outputs": [],
   "source": [
    "cities_df = pd.DataFrame({\"City ID\": city_id_list, \"City\": city_name_list, \"Country\": country_list, \"Lat\": lat_list, \"Lng\": lng_list,\n",
    "                         \"Temperature\": temp_list, \"Humidity\": humidity_list, \"Clouds\": clouds_list,\n",
    "                         \"Wind Speed\": wind_speed_list, \"Date\": date})\n"
   ]
  },
  {
   "cell_type": "code",
   "execution_count": 11,
   "metadata": {},
   "outputs": [
    {
     "data": {
      "text/html": [
       "<div>\n",
       "<style scoped>\n",
       "    .dataframe tbody tr th:only-of-type {\n",
       "        vertical-align: middle;\n",
       "    }\n",
       "\n",
       "    .dataframe tbody tr th {\n",
       "        vertical-align: top;\n",
       "    }\n",
       "\n",
       "    .dataframe thead th {\n",
       "        text-align: right;\n",
       "    }\n",
       "</style>\n",
       "<table border=\"1\" class=\"dataframe\">\n",
       "  <thead>\n",
       "    <tr style=\"text-align: right;\">\n",
       "      <th></th>\n",
       "      <th>City ID</th>\n",
       "      <th>City</th>\n",
       "      <th>Country</th>\n",
       "      <th>Lat</th>\n",
       "      <th>Lng</th>\n",
       "      <th>Temperature</th>\n",
       "      <th>Humidity</th>\n",
       "      <th>Clouds</th>\n",
       "      <th>Wind Speed</th>\n",
       "      <th>Date</th>\n",
       "    </tr>\n",
       "  </thead>\n",
       "  <tbody>\n",
       "    <tr>\n",
       "      <th>0</th>\n",
       "      <td>6201424</td>\n",
       "      <td>Mataura</td>\n",
       "      <td>NZ</td>\n",
       "      <td>-46.1927</td>\n",
       "      <td>168.8643</td>\n",
       "      <td>41.00</td>\n",
       "      <td>69</td>\n",
       "      <td>78</td>\n",
       "      <td>18.99</td>\n",
       "      <td>Monday, 17 May 2021 01:07PM</td>\n",
       "    </tr>\n",
       "    <tr>\n",
       "      <th>1</th>\n",
       "      <td>293842</td>\n",
       "      <td>Kiryat Gat</td>\n",
       "      <td>IL</td>\n",
       "      <td>31.6100</td>\n",
       "      <td>34.7642</td>\n",
       "      <td>71.19</td>\n",
       "      <td>5</td>\n",
       "      <td>30</td>\n",
       "      <td>3.00</td>\n",
       "      <td>Monday, 17 May 2021 01:07PM</td>\n",
       "    </tr>\n",
       "    <tr>\n",
       "      <th>2</th>\n",
       "      <td>4726521</td>\n",
       "      <td>San Patricio</td>\n",
       "      <td>US</td>\n",
       "      <td>28.0170</td>\n",
       "      <td>-97.5169</td>\n",
       "      <td>85.64</td>\n",
       "      <td>74</td>\n",
       "      <td>75</td>\n",
       "      <td>16.11</td>\n",
       "      <td>Monday, 17 May 2021 01:07PM</td>\n",
       "    </tr>\n",
       "    <tr>\n",
       "      <th>3</th>\n",
       "      <td>3495137</td>\n",
       "      <td>Pedernales</td>\n",
       "      <td>DO</td>\n",
       "      <td>18.0384</td>\n",
       "      <td>-71.7440</td>\n",
       "      <td>85.77</td>\n",
       "      <td>60</td>\n",
       "      <td>64</td>\n",
       "      <td>9.78</td>\n",
       "      <td>Monday, 17 May 2021 01:07PM</td>\n",
       "    </tr>\n",
       "    <tr>\n",
       "      <th>4</th>\n",
       "      <td>3471451</td>\n",
       "      <td>Arraial do Cabo</td>\n",
       "      <td>BR</td>\n",
       "      <td>-22.9661</td>\n",
       "      <td>-42.0278</td>\n",
       "      <td>82.40</td>\n",
       "      <td>54</td>\n",
       "      <td>0</td>\n",
       "      <td>3.44</td>\n",
       "      <td>Monday, 17 May 2021 01:07PM</td>\n",
       "    </tr>\n",
       "  </tbody>\n",
       "</table>\n",
       "</div>"
      ],
      "text/plain": [
       "   City ID             City Country      Lat       Lng  Temperature  Humidity  \\\n",
       "0  6201424          Mataura      NZ -46.1927  168.8643        41.00        69   \n",
       "1   293842       Kiryat Gat      IL  31.6100   34.7642        71.19         5   \n",
       "2  4726521     San Patricio      US  28.0170  -97.5169        85.64        74   \n",
       "3  3495137       Pedernales      DO  18.0384  -71.7440        85.77        60   \n",
       "4  3471451  Arraial do Cabo      BR -22.9661  -42.0278        82.40        54   \n",
       "\n",
       "   Clouds  Wind Speed                         Date  \n",
       "0      78       18.99  Monday, 17 May 2021 01:07PM  \n",
       "1      30        3.00  Monday, 17 May 2021 01:07PM  \n",
       "2      75       16.11  Monday, 17 May 2021 01:07PM  \n",
       "3      64        9.78  Monday, 17 May 2021 01:07PM  \n",
       "4       0        3.44  Monday, 17 May 2021 01:07PM  "
      ]
     },
     "execution_count": 11,
     "metadata": {},
     "output_type": "execute_result"
    }
   ],
   "source": [
    "cities_df.head()"
   ]
  },
  {
   "cell_type": "code",
   "execution_count": 27,
   "metadata": {},
   "outputs": [],
   "source": [
    "# Export to .csv file\n",
    "cities_df.to_csv(\"output_data/city_weather.csv\", index=False, header=True)"
   ]
  },
  {
   "cell_type": "markdown",
   "metadata": {},
   "source": [
    "## Inspect the data and remove the cities where the humidity > 100%.\n",
    "----\n",
    "Skip this step if there are no cities that have humidity > 100%. "
   ]
  },
  {
   "cell_type": "code",
   "execution_count": null,
   "metadata": {},
   "outputs": [],
   "source": []
  },
  {
   "cell_type": "code",
   "execution_count": null,
   "metadata": {},
   "outputs": [],
   "source": [
    "#  Get the indices of cities that have humidity over 100%.\n"
   ]
  },
  {
   "cell_type": "code",
   "execution_count": null,
   "metadata": {},
   "outputs": [],
   "source": [
    "# Make a new DataFrame equal to the city data to drop all humidity outliers by index.\n",
    "# Passing \"inplace=False\" will make a copy of the city_data DataFrame, which we call \"clean_city_data\".\n"
   ]
  },
  {
   "cell_type": "code",
   "execution_count": null,
   "metadata": {},
   "outputs": [],
   "source": [
    "\n"
   ]
  },
  {
   "cell_type": "markdown",
   "metadata": {},
   "source": [
    "## Plotting the Data\n",
    "* Use proper labeling of the plots using plot titles (including date of analysis) and axes labels.\n",
    "* Save the plotted figures as .pngs."
   ]
  },
  {
   "cell_type": "markdown",
   "metadata": {},
   "source": [
    "## Latitude vs. Temperature Plot"
   ]
  },
  {
   "cell_type": "code",
   "execution_count": 19,
   "metadata": {
    "scrolled": true
   },
   "outputs": [
    {
     "data": {
      "image/png": "[encoded data removed]",
      "text/plain": [
       "<Figure size 432x288 with 1 Axes>"
      ]
     },
     "metadata": {
      "needs_background": "light"
     },
     "output_type": "display_data"
    },
    {
     "data": {
      "text/plain": [
       "<Figure size 432x288 with 0 Axes>"
      ]
     },
     "metadata": {},
     "output_type": "display_data"
    }
   ],
   "source": [
    "x_values = cities_df[\"Lat\"]\n",
    "y_values = cities_df[\"Temperature\"]\n",
    "\n",
    "plt.scatter(x_values,y_values)\n",
    "plt.title('Temperatures at Latitude Positions')\n",
    "plt.xlabel('Latitude')\n",
    "plt.ylabel('Temperature (F)')\n",
    "plt.ylim(0, 100)\n",
    "plt.xlim(-60, 80)\n",
    "plt.minorticks_on()\n",
    "plt.grid(which='major', linestyle='-')\n",
    "plt.grid(which='minor', linestyle=':')\n",
    "plt.tight_layout()\n",
    "plt.show()\n",
    "plt.savefig(\"Images/lat_temp.jpeg\")"
   ]
  },
  {
   "cell_type": "markdown",
   "metadata": {},
   "source": [
    "## Latitude vs. Humidity Plot"
   ]
  },
  {
   "cell_type": "code",
   "execution_count": 20,
   "metadata": {},
   "outputs": [
    {
     "data": {
      "image/png": "[encoded data removed]",
      "text/plain": [
       "<Figure size 432x288 with 1 Axes>"
      ]
     },
     "metadata": {
      "needs_background": "light"
     },
     "output_type": "display_data"
    },
    {
     "data": {
      "text/plain": [
       "<Figure size 432x288 with 0 Axes>"
      ]
     },
     "metadata": {},
     "output_type": "display_data"
    }
   ],
   "source": [
    "x_values = cities_df[\"Lat\"]\n",
    "y_values = cities_df[\"Humidity\"]\n",
    "\n",
    "plt.scatter(x_values,y_values)\n",
    "plt.title('Humidity at Latitude Positions')\n",
    "plt.xlabel('Latitude')\n",
    "plt.ylabel('Humidity (%)')\n",
    "plt.ylim(0, 105)\n",
    "plt.xlim(-60, 80)\n",
    "plt.minorticks_on()\n",
    "plt.grid(which='major', linestyle='-')\n",
    "plt.grid(which='minor', linestyle=':')\n",
    "plt.tight_layout()\n",
    "plt.show()\n",
    "plt.savefig(\"Images/lat_humid.png\")"
   ]
  },
  {
   "cell_type": "markdown",
   "metadata": {},
   "source": [
    "## Latitude vs. Cloudiness Plot"
   ]
  },
  {
   "cell_type": "code",
   "execution_count": 21,
   "metadata": {},
   "outputs": [
    {
     "data": {
      "image/png": "[encoded data removed]",
      "text/plain": [
       "<Figure size 432x288 with 1 Axes>"
      ]
     },
     "metadata": {
      "needs_background": "light"
     },
     "output_type": "display_data"
    },
    {
     "data": {
      "text/plain": [
       "<Figure size 432x288 with 0 Axes>"
      ]
     },
     "metadata": {},
     "output_type": "display_data"
    }
   ],
   "source": [
    "x_values = cities_df[\"Lat\"]\n",
    "y_values = cities_df[\"Clouds\"]\n",
    "\n",
    "plt.scatter(x_values,y_values)\n",
    "plt.title('Cloudiness at Latitude Positions')\n",
    "plt.xlabel('Latitude')\n",
    "plt.ylabel('Cloudiness (%)')\n",
    "plt.ylim(-5, 105)\n",
    "plt.xlim(-60, 80)\n",
    "plt.minorticks_on()\n",
    "plt.grid(which='major', linestyle='-')\n",
    "plt.grid(which='minor', linestyle=':')\n",
    "plt.tight_layout()\n",
    "plt.show()\n",
    "plt.savefig(\"Images/lat_clouds.png\")"
   ]
  },
  {
   "cell_type": "markdown",
   "metadata": {},
   "source": [
    "## Latitude vs. Wind Speed Plot"
   ]
  },
  {
   "cell_type": "code",
   "execution_count": 22,
   "metadata": {},
   "outputs": [
    {
     "data": {
      "image/png": "[encoded data removed]",
      "text/plain": [
       "<Figure size 432x288 with 1 Axes>"
      ]
     },
     "metadata": {
      "needs_background": "light"
     },
     "output_type": "display_data"
    },
    {
     "data": {
      "text/plain": [
       "<Figure size 432x288 with 0 Axes>"
      ]
     },
     "metadata": {},
     "output_type": "display_data"
    }
   ],
   "source": [
    "x_values = cities_df[\"Lat\"]\n",
    "y_values = cities_df[\"Wind Speed\"]\n",
    "\n",
    "plt.scatter(x_values,y_values)\n",
    "plt.title('Wind Speeds at Latitude Positions')\n",
    "plt.xlabel('Latitude')\n",
    "plt.ylabel('Wind Speed (mph)')\n",
    "plt.ylim(0, 40)\n",
    "plt.xlim(-60, 80)\n",
    "plt.minorticks_on()\n",
    "plt.grid(which='major', linestyle='-')\n",
    "plt.grid(which='minor', linestyle=':')\n",
    "plt.tight_layout()\n",
    "plt.show()\n",
    "plt.savefig(\"Images/lat_wind.png\")"
   ]
  },
  {
   "cell_type": "markdown",
   "metadata": {},
   "source": [
    "## Linear Regression"
   ]
  },
  {
   "cell_type": "code",
   "execution_count": 31,
   "metadata": {},
   "outputs": [],
   "source": [
    "mask = cities_df['Lat'] > 0\n",
    "northern_hemisphere = cities_df[mask]\n",
    "southern_hemisphere = cities_df[~mask]"
   ]
  },
  {
   "cell_type": "markdown",
   "metadata": {},
   "source": [
    "####  Northern Hemisphere - Max Temp vs. Latitude Linear Regression"
   ]
  },
  {
   "cell_type": "code",
   "execution_count": 36,
   "metadata": {},
   "outputs": [
    {
     "name": "stdout",
     "output_type": "stream",
     "text": [
      "The r-squared is: -0.8187163178958357\n"
     ]
    },
    {
     "data": {
      "image/png": "[encoded data removed]",
      "text/plain": [
       "<Figure size 432x288 with 1 Axes>"
      ]
     },
     "metadata": {
      "needs_background": "light"
     },
     "output_type": "display_data"
    },
    {
     "data": {
      "text/plain": [
       "<Figure size 432x288 with 0 Axes>"
      ]
     },
     "metadata": {},
     "output_type": "display_data"
    }
   ],
   "source": [
    "x_values=northern_hemisphere['Lat']\n",
    "\n",
    "y_values = northern_hemisphere['Temperature']\n",
    "\n",
    "\n",
    "(slope, intercept, rvalue, pvalue, stderr) = linregress(x_values, y_values)\n",
    "regress_values = x_values * slope + intercept\n",
    "line_eq = \"y = \" + str(round(slope,2)) + \"x + \" + str(round(intercept,2))\n",
    "plt.scatter(x_values,y_values)\n",
    "plt.plot(x_values,regress_values,\"r-\")\n",
    "plt.annotate(line_eq,(0,50),fontsize=15,color=\"red\")\n",
    "plt.xlabel('Latitude')\n",
    "plt.ylabel('Max Temp')\n",
    "print(f\"The r-squared is: {rvalue}\")\n",
    "plt.show()\n",
    "plt.savefig(\"Images/north_hemi_lat_temp_regression.png\")"
   ]
  },
  {
   "cell_type": "markdown",
   "metadata": {},
   "source": [
    "####  Southern Hemisphere - Max Temp vs. Latitude Linear Regression"
   ]
  },
  {
   "cell_type": "code",
   "execution_count": 39,
   "metadata": {},
   "outputs": [
    {
     "name": "stdout",
     "output_type": "stream",
     "text": [
      "The r-squared is: 0.8101540623748893\n"
     ]
    },
    {
     "data": {
      "image/png": "[encoded data removed]",
      "text/plain": [
       "<Figure size 432x288 with 1 Axes>"
      ]
     },
     "metadata": {
      "needs_background": "light"
     },
     "output_type": "display_data"
    },
    {
     "data": {
      "text/plain": [
       "<Figure size 432x288 with 0 Axes>"
      ]
     },
     "metadata": {},
     "output_type": "display_data"
    }
   ],
   "source": [
    "x_values =southern_hemisphere['Lat']\n",
    "\n",
    "y_values = southern_hemisphere['Temperature']\n",
    "\n",
    "(slope, intercept, rvalue, pvalue, stderr) = linregress(x_values, y_values)\n",
    "regress_values = x_values * slope + intercept\n",
    "line_eq = \"y = \" + str(round(slope,2)) + \"x + \" + str(round(intercept,2))\n",
    "plt.scatter(x_values,y_values)\n",
    "plt.plot(x_values,regress_values,\"r-\")\n",
    "plt.annotate(line_eq,(0,50),fontsize=15,color=\"red\")\n",
    "plt.xlabel('Latitude')\n",
    "plt.ylabel('Max Temp')\n",
    "print(f\"The r-squared is: {rvalue}\")\n",
    "plt.show()\n",
    "plt.savefig('Images/S_linear_Lat_MT.png')"
   ]
  },
  {
   "cell_type": "markdown",
   "metadata": {},
   "source": [
    "####  Northern Hemisphere - Humidity (%) vs. Latitude Linear Regression"
   ]
  },
  {
   "cell_type": "code",
   "execution_count": 40,
   "metadata": {},
   "outputs": [
    {
     "name": "stdout",
     "output_type": "stream",
     "text": [
      "The r-squared is: 0.1609600197501628\n"
     ]
    },
    {
     "data": {
      "image/png": "[encoded data removed]",
      "text/plain": [
       "<Figure size 432x288 with 1 Axes>"
      ]
     },
     "metadata": {
      "needs_background": "light"
     },
     "output_type": "display_data"
    },
    {
     "data": {
      "text/plain": [
       "<Figure size 432x288 with 0 Axes>"
      ]
     },
     "metadata": {},
     "output_type": "display_data"
    }
   ],
   "source": [
    "x_values =northern_hemisphere['Lat']\n",
    "\n",
    "y_values = northern_hemisphere['Humidity']\n",
    "\n",
    "(slope, intercept, rvalue, pvalue, stderr) = linregress(x_values, y_values)\n",
    "regress_values = x_values * slope + intercept\n",
    "line_eq = \"y = \" + str(round(slope,2)) + \"x + \" + str(round(intercept,2))\n",
    "plt.scatter(x_values,y_values)\n",
    "plt.plot(x_values,regress_values,\"r-\")\n",
    "plt.annotate(line_eq,(0,50),fontsize=15,color=\"red\")\n",
    "plt.xlabel('Latitude')\n",
    "plt.ylabel('Humidity')\n",
    "print(f\"The r-squared is: {rvalue}\")\n",
    "plt.show()\n",
    "plt.savefig('Images/N_linear_Lat_Hum.png')"
   ]
  },
  {
   "cell_type": "markdown",
   "metadata": {},
   "source": [
    "####  Southern Hemisphere - Humidity (%) vs. Latitude Linear Regression"
   ]
  },
  {
   "cell_type": "code",
   "execution_count": 41,
   "metadata": {},
   "outputs": [
    {
     "name": "stdout",
     "output_type": "stream",
     "text": [
      "The r-squared is: 0.08556546055293544\n"
     ]
    },
    {
     "data": {
      "image/png": "[encoded data removed]",
      "text/plain": [
       "<Figure size 432x288 with 1 Axes>"
      ]
     },
     "metadata": {
      "needs_background": "light"
     },
     "output_type": "display_data"
    },
    {
     "data": {
      "text/plain": [
       "<Figure size 432x288 with 0 Axes>"
      ]
     },
     "metadata": {},
     "output_type": "display_data"
    }
   ],
   "source": [
    "x_values =southern_hemisphere['Lat']\n",
    "\n",
    "y_values = southern_hemisphere['Humidity']\n",
    "\n",
    "(slope, intercept, rvalue, pvalue, stderr) = linregress(x_values, y_values)\n",
    "regress_values = x_values * slope + intercept\n",
    "line_eq = \"y = \" + str(round(slope,2)) + \"x + \" + str(round(intercept,2))\n",
    "plt.scatter(x_values,y_values)\n",
    "plt.plot(x_values,regress_values,\"r-\")\n",
    "plt.annotate(line_eq,(0,50),fontsize=15,color=\"red\")\n",
    "plt.xlabel('Latitude')\n",
    "plt.ylabel('Humidity')\n",
    "print(f\"The r-squared is: {rvalue}\")\n",
    "plt.show()\n",
    "plt.savefig('Images/S_linear_Lat_Hum.png')"
   ]
  },
  {
   "cell_type": "markdown",
   "metadata": {},
   "source": [
    "####  Northern Hemisphere - Cloudiness (%) vs. Latitude Linear Regression"
   ]
  },
  {
   "cell_type": "code",
   "execution_count": 43,
   "metadata": {},
   "outputs": [
    {
     "name": "stdout",
     "output_type": "stream",
     "text": [
      "The r-squared is: 0.02278163258390411\n"
     ]
    },
    {
     "data": {
      "image/png": "[encoded data removed]",
      "text/plain": [
       "<Figure size 432x288 with 1 Axes>"
      ]
     },
     "metadata": {
      "needs_background": "light"
     },
     "output_type": "display_data"
    },
    {
     "data": {
      "text/plain": [
       "<Figure size 432x288 with 0 Axes>"
      ]
     },
     "metadata": {},
     "output_type": "display_data"
    }
   ],
   "source": [
    "x_values =northern_hemisphere['Lat']\n",
    "\n",
    "y_values = northern_hemisphere['Clouds']\n",
    "\n",
    "(slope, intercept, rvalue, pvalue, stderr) = linregress(x_values, y_values)\n",
    "regress_values = x_values * slope + intercept\n",
    "line_eq = \"y = \" + str(round(slope,2)) + \"x + \" + str(round(intercept,2))\n",
    "plt.scatter(x_values,y_values)\n",
    "plt.plot(x_values,regress_values,\"r-\")\n",
    "plt.annotate(line_eq,(0,50),fontsize=15,color=\"red\")\n",
    "plt.xlabel('Latitude')\n",
    "plt.ylabel('Cloudiness')\n",
    "print(f\"The r-squared is: {rvalue}\")\n",
    "plt.show()\n",
    "plt.savefig('Images/N_linear_Lat_Cl.png')"
   ]
  },
  {
   "cell_type": "markdown",
   "metadata": {},
   "source": [
    "####  Southern Hemisphere - Cloudiness (%) vs. Latitude Linear Regression"
   ]
  },
  {
   "cell_type": "code",
   "execution_count": 44,
   "metadata": {},
   "outputs": [
    {
     "name": "stdout",
     "output_type": "stream",
     "text": [
      "The r-squared is: 0.18111319891384886\n"
     ]
    },
    {
     "data": {
      "image/png": "[encoded data removed]",
      "text/plain": [
       "<Figure size 432x288 with 1 Axes>"
      ]
     },
     "metadata": {
      "needs_background": "light"
     },
     "output_type": "display_data"
    },
    {
     "data": {
      "text/plain": [
       "<Figure size 432x288 with 0 Axes>"
      ]
     },
     "metadata": {},
     "output_type": "display_data"
    }
   ],
   "source": [
    "x_values =southern_hemisphere['Lat']\n",
    "\n",
    "y_values = southern_hemisphere['Clouds']\n",
    "\n",
    "(slope, intercept, rvalue, pvalue, stderr) = linregress(x_values, y_values)\n",
    "regress_values = x_values * slope + intercept\n",
    "line_eq = \"y = \" + str(round(slope,2)) + \"x + \" + str(round(intercept,2))\n",
    "plt.scatter(x_values,y_values)\n",
    "plt.plot(x_values,regress_values,\"r-\")\n",
    "plt.annotate(line_eq,(0,50),fontsize=15,color=\"red\")\n",
    "plt.xlabel('Latitude')\n",
    "plt.ylabel('Cloudiness')\n",
    "print(f\"The r-squared is: {rvalue}\")\n",
    "plt.show()\n",
    "plt.savefig('Images/S_linear_Lat_Cl.png')"
   ]
  },
  {
   "cell_type": "markdown",
   "metadata": {},
   "source": [
    "####  Northern Hemisphere - Wind Speed (mph) vs. Latitude Linear Regression"
   ]
  },
  {
   "cell_type": "code",
   "execution_count": 45,
   "metadata": {},
   "outputs": [
    {
     "name": "stdout",
     "output_type": "stream",
     "text": [
      "The r-squared is: -0.07616698800834343\n"
     ]
    },
    {
     "data": {
      "image/png": "[encoded data removed]",
      "text/plain": [
       "<Figure size 432x288 with 1 Axes>"
      ]
     },
     "metadata": {
      "needs_background": "light"
     },
     "output_type": "display_data"
    },
    {
     "data": {
      "text/plain": [
       "<Figure size 432x288 with 0 Axes>"
      ]
     },
     "metadata": {},
     "output_type": "display_data"
    }
   ],
   "source": [
    "x_values = northern_hemisphere['Lat']\n",
    "\n",
    "y_values = northern_hemisphere['Wind Speed']\n",
    "\n",
    "(slope, intercept, rvalue, pvalue, stderr) = linregress(x_values, y_values)\n",
    "regress_values = x_values * slope + intercept\n",
    "line_eq = \"y = \" + str(round(slope,2)) + \"x + \" + str(round(intercept,2))\n",
    "plt.scatter(x_values,y_values)\n",
    "plt.plot(x_values,regress_values,\"r-\")\n",
    "plt.annotate(line_eq,(0,8),fontsize=15,color=\"red\")\n",
    "plt.xlabel('Wind speed')\n",
    "plt.ylabel('Max Temp')\n",
    "print(f\"The r-squared is: {rvalue}\")\n",
    "plt.show()\n",
    "plt.savefig('Images/N_linear_Lat_W.png')"
   ]
  },
  {
   "cell_type": "markdown",
   "metadata": {},
   "source": [
    "####  Southern Hemisphere - Wind Speed (mph) vs. Latitude Linear Regression"
   ]
  },
  {
   "cell_type": "code",
   "execution_count": 46,
   "metadata": {},
   "outputs": [
    {
     "name": "stdout",
     "output_type": "stream",
     "text": [
      "The r-squared is: -0.26307655200243285\n"
     ]
    },
    {
     "data": {
      "image/png": "[encoded data removed]",
      "text/plain": [
       "<Figure size 432x288 with 1 Axes>"
      ]
     },
     "metadata": {
      "needs_background": "light"
     },
     "output_type": "display_data"
    },
    {
     "data": {
      "text/plain": [
       "<Figure size 432x288 with 0 Axes>"
      ]
     },
     "metadata": {},
     "output_type": "display_data"
    }
   ],
   "source": [
    "x_values = southern_hemisphere['Lat']\n",
    "\n",
    "y_values = southern_hemisphere['Wind Speed']\n",
    "\n",
    "(slope, intercept, rvalue, pvalue, stderr) = linregress(x_values, y_values)\n",
    "regress_values = x_values * slope + intercept\n",
    "line_eq = \"y = \" + str(round(slope,2)) + \"x + \" + str(round(intercept,2))\n",
    "plt.scatter(x_values,y_values)\n",
    "plt.plot(x_values,regress_values,\"r-\")\n",
    "plt.annotate(line_eq,(0,5),fontsize=15,color=\"red\")\n",
    "plt.xlabel('Wind speed')\n",
    "plt.ylabel('Max Temp')\n",
    "print(f\"The r-squared is: {rvalue}\")\n",
    "plt.show()\n",
    "plt.savefig('Images/S_linear_Lat_W.png')"
   ]
  },
  {
   "cell_type": "code",
   "execution_count": null,
   "metadata": {},
   "outputs": [],
   "source": []
  }
 ],
 "metadata": {
  "anaconda-cloud": {},
  "kernel_info": {
   "name": "python3"
  },
  "kernelspec": {
   "display_name": "Python 3",
   "language": "python",
   "name": "python3"
  },
  "language_info": {
   "codemirror_mode": {
    "name": "ipython",
    "version": 3
   },
   "file_extension": ".py",
   "mimetype": "text/x-python",
   "name": "python",
   "nbconvert_exporter": "python",
   "pygments_lexer": "ipython3",
   "version": "3.9.1"
  },
  "latex_envs": {
   "LaTeX_envs_menu_present": true,
   "autoclose": false,
   "autocomplete": true,
   "bibliofile": "biblio.bib",
   "cite_by": "apalike",
   "current_citInitial": 1,
   "eqLabelWithNumbers": true,
   "eqNumInitial": 1,
   "hotkeys": {
    "equation": "Ctrl-E",
    "itemize": "Ctrl-I"
   },
   "labels_anchors": false,
   "latex_user_defs": false,
   "report_style_numbering": false,
   "user_envs_cfg": false
  },
  "nteract": {
   "version": "0.12.3"
  }
 },
 "nbformat": 4,
 "nbformat_minor": 2
}
